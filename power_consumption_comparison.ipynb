{
 "cells": [
  {
   "metadata": {},
   "cell_type": "markdown",
   "source": "# Power Consumption Comparison",
   "id": "6e86013cee050604"
  },
  {
   "metadata": {},
   "cell_type": "code",
   "source": [
    "# Imports\n",
    "\n",
    "import matplotlib.pyplot as plt\n",
    "import numpy as np\n",
    "import requests\n",
    "from dotenv import load_dotenv\n",
    "import os"
   ],
   "id": "b8e8ba366bf429d1",
   "outputs": [],
   "execution_count": null
  },
  {
   "metadata": {},
   "cell_type": "code",
   "source": [
    "# Shared variables\n",
    "load_dotenv()\n",
    "\n",
    "horreum_base = os.environ.get('HORREUM_BASE_URL')\n",
    "base_api = horreum_base + \"/api/run/\""
   ],
   "id": "536fb95cedf23272",
   "outputs": [],
   "execution_count": null
  },
  {
   "metadata": {},
   "cell_type": "code",
   "source": [
    "def fetch_label_values(run_id: str) -> dict:\n",
    "    \"\"\"\n",
    "    Fetch the run's label values from the Horreum API.\n",
    "    :param run_id: run identifier\n",
    "    :return: the run's label values in dictionary format\n",
    "    \"\"\"\n",
    "    label_values = requests.get(base_api + run_id + \"/labelValues\")\n",
    "    return label_values.json()[0][\"values\"]"
   ],
   "id": "d93dbdc396dc1a15",
   "outputs": [],
   "execution_count": null
  },
  {
   "metadata": {},
   "cell_type": "code",
   "source": [
    "# adopted tools to compare\n",
    "tools = ['RAPL', 'Kepler', 'PSU', 'CPU']\n",
    "\n",
    "# mapping from tool to label value name\n",
    "tools_to_label = {\n",
    "    'RAPL': 'power_rapl',\n",
    "    'Kepler': 'power_kepler',\n",
    "    'PSU': 'power_chasis',\n",
    "    'CPU': 'cpu_pidstat',\n",
    "}"
   ],
   "id": "a2da502a70f89624",
   "outputs": [],
   "execution_count": null
  },
  {
   "metadata": {},
   "cell_type": "code",
   "source": [
    "def plot(_run_ids: list[str], _tool: str, _save: bool = False) -> None:\n",
    "    \"\"\"\n",
    "    Plot the power measurements obtained for a specific tool over time.\n",
    "    :param _run_ids: Horreum run ids to compare power measurements for.\n",
    "    :param _tool: see @tools.\n",
    "    :param _save: if true, save the plot.\n",
    "    \"\"\"\n",
    "\n",
    "    # It's good practice to create a figure and an axes object\n",
    "    fig, ax = plt.subplots(figsize=(12, 6))\n",
    "\n",
    "    for run_id in _run_ids:\n",
    "        # --- Fetch data for the specific run ---\n",
    "        run_values = fetch_label_values(run_id)\n",
    "        injection_rate = run_values[\"InjectionRate\"]\n",
    "        input_data = run_values[tools_to_label.get(_tool)]\n",
    "        # 1. Create a time axis\n",
    "        # Since each sample is one second, the time axis is just 0, 1, 2, ...\n",
    "        num_samples = len(input_data)\n",
    "        time_axis = np.arange(num_samples) # This creates an array [0, 1, 2, ..., num_samples-1]\n",
    "\n",
    "        # 2. Plot the data\n",
    "        ax.plot(time_axis, input_data, label='RPS ' + str(injection_rate))\n",
    "\n",
    "    ax.set_title(tool + ' Measurements Over Time', fontsize=16)\n",
    "    ax.set_xlabel('Samples', fontsize=12)\n",
    "    ax.set_ylabel('Watts', fontsize=12)\n",
    "\n",
    "    ax.grid(True)\n",
    "    ax.legend(fontsize=10)\n",
    "\n",
    "    if _save:\n",
    "        fig.savefig(_tool + '.png', dpi=300)\n",
    "\n",
    "    plt.tight_layout()\n",
    "    plt.show()"
   ],
   "id": "9f6ea91286b10d32",
   "outputs": [],
   "execution_count": null
  },
  {
   "metadata": {},
   "cell_type": "markdown",
   "source": [
    "## Previous measurements\n",
    "\n",
    "```dotenv\n",
    "Java   = 21.0.5-tem\n",
    "Kepler = v0.7.12\n",
    "Cores  = All\n",
    "```"
   ],
   "id": "932a4a5631a36ff"
  },
  {
   "metadata": {},
   "cell_type": "code",
   "source": [
    "# runs to consider, each one uses a specific RPS\n",
    "runs = ['66747', '66746', '66744', '66743', '66741']\n",
    "\n",
    "# iterate over all tools and plot a chart with all RPS\n",
    "for tool in tools:\n",
    "    plot(runs, tool)"
   ],
   "id": "bb3595efc9dcfba4",
   "outputs": [],
   "execution_count": null
  },
  {
   "metadata": {},
   "cell_type": "code",
   "source": [
    "# adopted tools to compare\n",
    "tools = ['RAPL', 'Kepler', 'PSU', 'CPU', 'Kepler Node']\n",
    "\n",
    "# mapping from tool to label value name\n",
    "tools_to_label = {\n",
    "    'RAPL': 'power_rapl',\n",
    "    'Kepler': 'power_kepler',\n",
    "    'PSU': 'power_chasis',\n",
    "    'CPU': 'cpu_pidstat',\n",
    "    'Kepler Node': 'power_kepler_node',\n",
    "}"
   ],
   "id": "57f9d267d5013fa1",
   "outputs": [],
   "execution_count": null
  },
  {
   "metadata": {},
   "cell_type": "markdown",
   "source": [
    "## New measurements\n",
    "\n",
    "```dotenv\n",
    "Java   = 21.0.5-tem\n",
    "Kepler = v0.10.2\n",
    "Cores  = 2\n",
    "App    = Baremetal\n",
    "```"
   ],
   "id": "77e72f8e3949f586"
  },
  {
   "metadata": {},
   "cell_type": "code",
   "source": [
    "# runs to consider, each one uses a specific RPS\n",
    "# '98778', '99078', 25k 30k\n",
    "runs = ['99140', '99137', '99136', '99133', '99130']\n",
    "for tool in tools:\n",
    "    plot(runs, tool, False)"
   ],
   "id": "9a07a01ed77a0f09",
   "outputs": [],
   "execution_count": null
  },
  {
   "metadata": {},
   "cell_type": "markdown",
   "source": [
    "## New measurements\n",
    "\n",
    "```dotenv\n",
    "Java   = 21.0.5-tem\n",
    "Kepler = v0.10.2\n",
    "Cores  = 2\n",
    "App    = Container\n",
    "```"
   ],
   "id": "68f75c50f1d5a16e"
  },
  {
   "metadata": {},
   "cell_type": "code",
   "source": [
    "runs = ['99156', '99153', '99159', '99149', '99146']\n",
    "for tool in tools:\n",
    "    plot(runs, tool, False)"
   ],
   "id": "1523c8cff7c5821d",
   "outputs": [],
   "execution_count": null
  },
  {
   "metadata": {},
   "cell_type": "code",
   "source": "",
   "id": "70fd4d94f0d9573f",
   "outputs": [],
   "execution_count": null
  }
 ],
 "metadata": {
  "kernelspec": {
   "display_name": "Python 3",
   "language": "python",
   "name": "python3"
  },
  "language_info": {
   "codemirror_mode": {
    "name": "ipython",
    "version": 2
   },
   "file_extension": ".py",
   "mimetype": "text/x-python",
   "name": "python",
   "nbconvert_exporter": "python",
   "pygments_lexer": "ipython2",
   "version": "2.7.6"
  }
 },
 "nbformat": 4,
 "nbformat_minor": 5
}
